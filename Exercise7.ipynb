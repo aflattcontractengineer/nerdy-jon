{
  "nbformat": 4,
  "nbformat_minor": 0,
  "metadata": {
    "kernelspec": {
      "display_name": "Python 3",
      "language": "python",
      "name": "python3"
    },
    "language_info": {
      "codemirror_mode": {
        "name": "ipython",
        "version": 3
      },
      "file_extension": ".py",
      "mimetype": "text/x-python",
      "name": "python",
      "nbconvert_exporter": "python",
      "pygments_lexer": "ipython3",
      "version": "3.6.8"
    },
    "toc": {
      "base_numbering": 1,
      "nav_menu": {},
      "number_sections": false,
      "sideBar": false,
      "skip_h1_title": false,
      "title_cell": "Table of Contents",
      "title_sidebar": "Contents",
      "toc_cell": false,
      "toc_position": {},
      "toc_section_display": false,
      "toc_window_display": false
    },
    "colab": {
      "name": "Exercise7.ipynb",
      "provenance": [],
      "collapsed_sections": [
        "lLX_AxV86czS",
        "l01JHKVO6czV",
        "5qfja89L6czY",
        "OafJIVS96czb",
        "-Pan8NYO6czk",
        "8uF6-NeI6czn",
        "0s3kRvZ66czo",
        "YjDPGXLV6czr",
        "HUpxd6Tp6cz4",
        "26UYm-_G6cz8",
        "Rx2lLsoq6cz9",
        "XqdMDLdK6c0C",
        "qxCj2ybG6c0G",
        "B6am5SXq6c0K",
        "bruQ0FFC6c0N",
        "se_oSl2Y6c0X",
        "KoK-CQsA6c0Y",
        "5nlbZrh66c0b",
        "iPpWSdOu6c0c",
        "VD0HBS-S6c0f",
        "PPdoa9bH6c0l",
        "T9XGnLCR6c0o",
        "PeH2U_vX6c0u",
        "7pL9MCTx6c0x",
        "7WVP8k2l6c01",
        "99f2TATa6c02"
      ],
      "include_colab_link": true
    }
  },
  "cells": [
    {
      "cell_type": "markdown",
      "metadata": {
        "id": "view-in-github",
        "colab_type": "text"
      },
      "source": [
        "<a href=\"https://colab.research.google.com/github/aflattcontractengineer/nerdy-jon/blob/master/Exercise7.ipynb\" target=\"_parent\"><img src=\"https://colab.research.google.com/assets/colab-badge.svg\" alt=\"Open In Colab\"/></a>"
      ]
    },
    {
      "cell_type": "markdown",
      "metadata": {
        "id": "BXZQLtKf6cy4",
        "colab_type": "text"
      },
      "source": [
        "## Setup - Run the following code to get started"
      ]
    },
    {
      "cell_type": "code",
      "metadata": {
        "id": "TcGwIX7q6cy5",
        "colab_type": "code",
        "colab": {}
      },
      "source": [
        "# Options to display more rows and columns\n",
        "# DO NOT REMOVE\n",
        "\n",
        "import pandas as pd\n",
        "pd.set_option('display.max_rows', 500)\n",
        "pd.set_option('display.max_columns', 500)\n",
        "pd.set_option('display.width', 100)"
      ],
      "execution_count": 0,
      "outputs": []
    },
    {
      "cell_type": "markdown",
      "metadata": {
        "id": "8VVg0hfV6cy3",
        "colab_type": "text"
      },
      "source": [
        "---\n",
        "# Exercise\n",
        "<span  style=\"color:purple; font-size:20px\">\n",
        "Python  \n",
        "</span>\n",
        "\n",
        "---\n",
        "\n",
        "## Yelp Data\n",
        "\n",
        "For this exercise, you will analyze data that has been made publicly available for educational and academic purposes. The data contains 3 main tables we will analyze:\n",
        "\n",
        "  + `yelp_academic_dataset_business.csv` - contains information about  a subset of businesses having at least one Yelp review. Every distinct business has a unique `business_id`\n",
        "  \n",
        "  + `yelp_academic_dataset_review.csv` - contains a subset of Yelp reviews with a `business_id` indicating what business the review is for and a `user_id` to identify the user leaving the review\n",
        "  \n",
        "  + `yelp_academic_dataset_user.csv` - contains a subset of Yelp users identified by `user_id`\n",
        "   \n",
        "## What you need to do\n",
        "\n",
        "Your goal in this notebook is to work through the problems below to perform some brief analyses of the `yelp_academic_dataset_business.csv` data. \n",
        "\n",
        "As always, it can be useful to document your thoughts, strategy, and assumptions as you go. If you are stuck on a particular problem, write down what you are trying to do and why you think you may be getting stuck."
      ]
    },
    {
      "cell_type": "code",
      "metadata": {
        "id": "MGWmpjHr6cy9",
        "colab_type": "code",
        "colab": {}
      },
      "source": [
        "# Load the libraries you need...\n"
      ],
      "execution_count": 0,
      "outputs": []
    },
    {
      "cell_type": "code",
      "metadata": {
        "id": "kIujrZVT6cy_",
        "colab_type": "code",
        "colab": {},
        "outputId": "fdc669c4-1e09-4a91-ef4f-1e494d79ff5c"
      },
      "source": [
        "# Load the data\n",
        "\n",
        "business_data = pd.read_csv(r'data-sets/yelp_academic_dataset_business.csv')\n",
        "business_data.head()"
      ],
      "execution_count": 0,
      "outputs": [
        {
          "output_type": "execute_result",
          "data": {
            "text/html": [
              "<div>\n",
              "<style scoped>\n",
              "    .dataframe tbody tr th:only-of-type {\n",
              "        vertical-align: middle;\n",
              "    }\n",
              "\n",
              "    .dataframe tbody tr th {\n",
              "        vertical-align: top;\n",
              "    }\n",
              "\n",
              "    .dataframe thead th {\n",
              "        text-align: right;\n",
              "    }\n",
              "</style>\n",
              "<table border=\"1\" class=\"dataframe\">\n",
              "  <thead>\n",
              "    <tr style=\"text-align: right;\">\n",
              "      <th></th>\n",
              "      <th>address</th>\n",
              "      <th>attributes</th>\n",
              "      <th>attributes.AcceptsInsurance</th>\n",
              "      <th>attributes.AgesAllowed</th>\n",
              "      <th>attributes.Alcohol</th>\n",
              "      <th>attributes.Ambience</th>\n",
              "      <th>attributes.BYOB</th>\n",
              "      <th>attributes.BYOBCorkage</th>\n",
              "      <th>attributes.BestNights</th>\n",
              "      <th>attributes.BikeParking</th>\n",
              "      <th>attributes.BusinessAcceptsBitcoin</th>\n",
              "      <th>attributes.BusinessAcceptsCreditCards</th>\n",
              "      <th>attributes.BusinessParking</th>\n",
              "      <th>attributes.ByAppointmentOnly</th>\n",
              "      <th>attributes.Caters</th>\n",
              "      <th>attributes.CoatCheck</th>\n",
              "      <th>attributes.Corkage</th>\n",
              "      <th>attributes.DietaryRestrictions</th>\n",
              "      <th>attributes.DogsAllowed</th>\n",
              "      <th>attributes.DriveThru</th>\n",
              "      <th>attributes.GoodForDancing</th>\n",
              "      <th>attributes.GoodForKids</th>\n",
              "      <th>attributes.GoodForMeal</th>\n",
              "      <th>attributes.HairSpecializesIn</th>\n",
              "      <th>attributes.HappyHour</th>\n",
              "      <th>attributes.HasTV</th>\n",
              "      <th>attributes.Music</th>\n",
              "      <th>attributes.NoiseLevel</th>\n",
              "      <th>attributes.Open24Hours</th>\n",
              "      <th>attributes.OutdoorSeating</th>\n",
              "      <th>attributes.RestaurantsAttire</th>\n",
              "      <th>attributes.RestaurantsCounterService</th>\n",
              "      <th>attributes.RestaurantsDelivery</th>\n",
              "      <th>attributes.RestaurantsGoodForGroups</th>\n",
              "      <th>attributes.RestaurantsPriceRange2</th>\n",
              "      <th>attributes.RestaurantsReservations</th>\n",
              "      <th>attributes.RestaurantsTableService</th>\n",
              "      <th>attributes.RestaurantsTakeOut</th>\n",
              "      <th>attributes.Smoking</th>\n",
              "      <th>attributes.WheelchairAccessible</th>\n",
              "      <th>attributes.WiFi</th>\n",
              "      <th>business_id</th>\n",
              "      <th>categories</th>\n",
              "      <th>city</th>\n",
              "      <th>hours</th>\n",
              "      <th>hours.Friday</th>\n",
              "      <th>hours.Monday</th>\n",
              "      <th>hours.Saturday</th>\n",
              "      <th>hours.Sunday</th>\n",
              "      <th>hours.Thursday</th>\n",
              "      <th>hours.Tuesday</th>\n",
              "      <th>hours.Wednesday</th>\n",
              "      <th>is_open</th>\n",
              "      <th>latitude</th>\n",
              "      <th>longitude</th>\n",
              "      <th>name</th>\n",
              "      <th>neighborhood</th>\n",
              "      <th>postal_code</th>\n",
              "      <th>review_count</th>\n",
              "      <th>stars</th>\n",
              "      <th>state</th>\n",
              "    </tr>\n",
              "  </thead>\n",
              "  <tbody>\n",
              "    <tr>\n",
              "      <th>0</th>\n",
              "      <td>1314 44 Avenue NE</td>\n",
              "      <td>NaN</td>\n",
              "      <td>NaN</td>\n",
              "      <td>NaN</td>\n",
              "      <td>NaN</td>\n",
              "      <td>NaN</td>\n",
              "      <td>NaN</td>\n",
              "      <td>NaN</td>\n",
              "      <td>NaN</td>\n",
              "      <td>False</td>\n",
              "      <td>NaN</td>\n",
              "      <td>True</td>\n",
              "      <td>{'garage': False, 'street': True, 'validated':...</td>\n",
              "      <td>NaN</td>\n",
              "      <td>NaN</td>\n",
              "      <td>NaN</td>\n",
              "      <td>NaN</td>\n",
              "      <td>NaN</td>\n",
              "      <td>NaN</td>\n",
              "      <td>NaN</td>\n",
              "      <td>NaN</td>\n",
              "      <td>True</td>\n",
              "      <td>NaN</td>\n",
              "      <td>NaN</td>\n",
              "      <td>NaN</td>\n",
              "      <td>True</td>\n",
              "      <td>NaN</td>\n",
              "      <td>average</td>\n",
              "      <td>NaN</td>\n",
              "      <td>False</td>\n",
              "      <td>casual</td>\n",
              "      <td>NaN</td>\n",
              "      <td>False</td>\n",
              "      <td>True</td>\n",
              "      <td>2.0</td>\n",
              "      <td>True</td>\n",
              "      <td>NaN</td>\n",
              "      <td>True</td>\n",
              "      <td>NaN</td>\n",
              "      <td>NaN</td>\n",
              "      <td>NaN</td>\n",
              "      <td>Apn5Q_b6Nz61Tq4XzPdf9A</td>\n",
              "      <td>Tours, Breweries, Pizza, Restaurants, Food, Ho...</td>\n",
              "      <td>Calgary</td>\n",
              "      <td>NaN</td>\n",
              "      <td>11:0-21:0</td>\n",
              "      <td>8:30-17:0</td>\n",
              "      <td>11:0-21:0</td>\n",
              "      <td>NaN</td>\n",
              "      <td>11:0-21:0</td>\n",
              "      <td>11:0-21:0</td>\n",
              "      <td>11:0-21:0</td>\n",
              "      <td>1</td>\n",
              "      <td>51.091813</td>\n",
              "      <td>-114.031675</td>\n",
              "      <td>Minhas Micro Brewery</td>\n",
              "      <td>NaN</td>\n",
              "      <td>T2E 6L6</td>\n",
              "      <td>24</td>\n",
              "      <td>4.0</td>\n",
              "      <td>AB</td>\n",
              "    </tr>\n",
              "    <tr>\n",
              "      <th>1</th>\n",
              "      <td>NaN</td>\n",
              "      <td>NaN</td>\n",
              "      <td>NaN</td>\n",
              "      <td>NaN</td>\n",
              "      <td>none</td>\n",
              "      <td>NaN</td>\n",
              "      <td>NaN</td>\n",
              "      <td>NaN</td>\n",
              "      <td>NaN</td>\n",
              "      <td>False</td>\n",
              "      <td>NaN</td>\n",
              "      <td>True</td>\n",
              "      <td>{'garage': False, 'street': True, 'validated':...</td>\n",
              "      <td>NaN</td>\n",
              "      <td>True</td>\n",
              "      <td>NaN</td>\n",
              "      <td>NaN</td>\n",
              "      <td>NaN</td>\n",
              "      <td>True</td>\n",
              "      <td>False</td>\n",
              "      <td>NaN</td>\n",
              "      <td>True</td>\n",
              "      <td>{'dessert': False, 'latenight': False, 'lunch'...</td>\n",
              "      <td>NaN</td>\n",
              "      <td>NaN</td>\n",
              "      <td>False</td>\n",
              "      <td>NaN</td>\n",
              "      <td>NaN</td>\n",
              "      <td>NaN</td>\n",
              "      <td>True</td>\n",
              "      <td>casual</td>\n",
              "      <td>NaN</td>\n",
              "      <td>False</td>\n",
              "      <td>True</td>\n",
              "      <td>2.0</td>\n",
              "      <td>False</td>\n",
              "      <td>False</td>\n",
              "      <td>True</td>\n",
              "      <td>NaN</td>\n",
              "      <td>True</td>\n",
              "      <td>no</td>\n",
              "      <td>AjEbIBw6ZFfln7ePHha9PA</td>\n",
              "      <td>Chicken Wings, Burgers, Caterers, Street Vendo...</td>\n",
              "      <td>Henderson</td>\n",
              "      <td>NaN</td>\n",
              "      <td>17:0-23:0</td>\n",
              "      <td>NaN</td>\n",
              "      <td>17:0-23:0</td>\n",
              "      <td>17:0-23:0</td>\n",
              "      <td>NaN</td>\n",
              "      <td>NaN</td>\n",
              "      <td>NaN</td>\n",
              "      <td>0</td>\n",
              "      <td>35.960734</td>\n",
              "      <td>-114.939821</td>\n",
              "      <td>CK'S BBQ &amp; Catering</td>\n",
              "      <td>NaN</td>\n",
              "      <td>89002</td>\n",
              "      <td>3</td>\n",
              "      <td>4.5</td>\n",
              "      <td>NV</td>\n",
              "    </tr>\n",
              "    <tr>\n",
              "      <th>2</th>\n",
              "      <td>1335 rue Beaubien E</td>\n",
              "      <td>NaN</td>\n",
              "      <td>NaN</td>\n",
              "      <td>NaN</td>\n",
              "      <td>beer_and_wine</td>\n",
              "      <td>{'romantic': False, 'intimate': False, 'classy...</td>\n",
              "      <td>NaN</td>\n",
              "      <td>NaN</td>\n",
              "      <td>NaN</td>\n",
              "      <td>True</td>\n",
              "      <td>NaN</td>\n",
              "      <td>False</td>\n",
              "      <td>{'garage': False, 'street': False, 'validated'...</td>\n",
              "      <td>NaN</td>\n",
              "      <td>False</td>\n",
              "      <td>NaN</td>\n",
              "      <td>NaN</td>\n",
              "      <td>NaN</td>\n",
              "      <td>NaN</td>\n",
              "      <td>NaN</td>\n",
              "      <td>NaN</td>\n",
              "      <td>True</td>\n",
              "      <td>{'dessert': False, 'latenight': False, 'lunch'...</td>\n",
              "      <td>NaN</td>\n",
              "      <td>NaN</td>\n",
              "      <td>True</td>\n",
              "      <td>NaN</td>\n",
              "      <td>average</td>\n",
              "      <td>NaN</td>\n",
              "      <td>False</td>\n",
              "      <td>casual</td>\n",
              "      <td>NaN</td>\n",
              "      <td>False</td>\n",
              "      <td>True</td>\n",
              "      <td>2.0</td>\n",
              "      <td>True</td>\n",
              "      <td>True</td>\n",
              "      <td>False</td>\n",
              "      <td>NaN</td>\n",
              "      <td>NaN</td>\n",
              "      <td>free</td>\n",
              "      <td>O8S5hYJ1SMc8fA4QBtVujA</td>\n",
              "      <td>Breakfast &amp; Brunch, Restaurants, French, Sandw...</td>\n",
              "      <td>Montréal</td>\n",
              "      <td>NaN</td>\n",
              "      <td>10:0-22:0</td>\n",
              "      <td>10:0-22:0</td>\n",
              "      <td>10:0-22:0</td>\n",
              "      <td>10:0-22:0</td>\n",
              "      <td>10:0-22:0</td>\n",
              "      <td>10:0-22:0</td>\n",
              "      <td>10:0-22:0</td>\n",
              "      <td>0</td>\n",
              "      <td>45.540503</td>\n",
              "      <td>-73.599300</td>\n",
              "      <td>La Bastringue</td>\n",
              "      <td>Rosemont-La Petite-Patrie</td>\n",
              "      <td>H2G 1K7</td>\n",
              "      <td>5</td>\n",
              "      <td>4.0</td>\n",
              "      <td>QC</td>\n",
              "    </tr>\n",
              "    <tr>\n",
              "      <th>3</th>\n",
              "      <td>211 W Monroe St</td>\n",
              "      <td>NaN</td>\n",
              "      <td>NaN</td>\n",
              "      <td>NaN</td>\n",
              "      <td>NaN</td>\n",
              "      <td>NaN</td>\n",
              "      <td>NaN</td>\n",
              "      <td>NaN</td>\n",
              "      <td>NaN</td>\n",
              "      <td>NaN</td>\n",
              "      <td>NaN</td>\n",
              "      <td>NaN</td>\n",
              "      <td>NaN</td>\n",
              "      <td>NaN</td>\n",
              "      <td>NaN</td>\n",
              "      <td>NaN</td>\n",
              "      <td>NaN</td>\n",
              "      <td>NaN</td>\n",
              "      <td>NaN</td>\n",
              "      <td>NaN</td>\n",
              "      <td>NaN</td>\n",
              "      <td>NaN</td>\n",
              "      <td>NaN</td>\n",
              "      <td>NaN</td>\n",
              "      <td>NaN</td>\n",
              "      <td>NaN</td>\n",
              "      <td>NaN</td>\n",
              "      <td>NaN</td>\n",
              "      <td>NaN</td>\n",
              "      <td>NaN</td>\n",
              "      <td>NaN</td>\n",
              "      <td>NaN</td>\n",
              "      <td>NaN</td>\n",
              "      <td>NaN</td>\n",
              "      <td>NaN</td>\n",
              "      <td>NaN</td>\n",
              "      <td>NaN</td>\n",
              "      <td>NaN</td>\n",
              "      <td>NaN</td>\n",
              "      <td>NaN</td>\n",
              "      <td>NaN</td>\n",
              "      <td>bFzdJJ3wp3PZssNEsyU23g</td>\n",
              "      <td>Insurance, Financial Services</td>\n",
              "      <td>Phoenix</td>\n",
              "      <td>NaN</td>\n",
              "      <td>NaN</td>\n",
              "      <td>NaN</td>\n",
              "      <td>NaN</td>\n",
              "      <td>NaN</td>\n",
              "      <td>NaN</td>\n",
              "      <td>NaN</td>\n",
              "      <td>NaN</td>\n",
              "      <td>1</td>\n",
              "      <td>33.449999</td>\n",
              "      <td>-112.076979</td>\n",
              "      <td>Geico Insurance</td>\n",
              "      <td>NaN</td>\n",
              "      <td>85003</td>\n",
              "      <td>8</td>\n",
              "      <td>1.5</td>\n",
              "      <td>AZ</td>\n",
              "    </tr>\n",
              "    <tr>\n",
              "      <th>4</th>\n",
              "      <td>2005 Alyth Place SE</td>\n",
              "      <td>NaN</td>\n",
              "      <td>NaN</td>\n",
              "      <td>NaN</td>\n",
              "      <td>NaN</td>\n",
              "      <td>NaN</td>\n",
              "      <td>NaN</td>\n",
              "      <td>NaN</td>\n",
              "      <td>NaN</td>\n",
              "      <td>NaN</td>\n",
              "      <td>NaN</td>\n",
              "      <td>True</td>\n",
              "      <td>NaN</td>\n",
              "      <td>NaN</td>\n",
              "      <td>NaN</td>\n",
              "      <td>NaN</td>\n",
              "      <td>NaN</td>\n",
              "      <td>NaN</td>\n",
              "      <td>NaN</td>\n",
              "      <td>NaN</td>\n",
              "      <td>NaN</td>\n",
              "      <td>NaN</td>\n",
              "      <td>NaN</td>\n",
              "      <td>NaN</td>\n",
              "      <td>NaN</td>\n",
              "      <td>NaN</td>\n",
              "      <td>NaN</td>\n",
              "      <td>NaN</td>\n",
              "      <td>NaN</td>\n",
              "      <td>NaN</td>\n",
              "      <td>NaN</td>\n",
              "      <td>NaN</td>\n",
              "      <td>NaN</td>\n",
              "      <td>NaN</td>\n",
              "      <td>NaN</td>\n",
              "      <td>NaN</td>\n",
              "      <td>NaN</td>\n",
              "      <td>NaN</td>\n",
              "      <td>NaN</td>\n",
              "      <td>NaN</td>\n",
              "      <td>NaN</td>\n",
              "      <td>8USyCYqpScwiNEb58Bt6CA</td>\n",
              "      <td>Home &amp; Garden, Nurseries &amp; Gardening, Shopping...</td>\n",
              "      <td>Calgary</td>\n",
              "      <td>NaN</td>\n",
              "      <td>8:0-17:0</td>\n",
              "      <td>8:0-17:0</td>\n",
              "      <td>NaN</td>\n",
              "      <td>NaN</td>\n",
              "      <td>8:0-17:0</td>\n",
              "      <td>8:0-17:0</td>\n",
              "      <td>8:0-17:0</td>\n",
              "      <td>1</td>\n",
              "      <td>51.035591</td>\n",
              "      <td>-114.027366</td>\n",
              "      <td>Action Engine</td>\n",
              "      <td>NaN</td>\n",
              "      <td>T2H 0N5</td>\n",
              "      <td>4</td>\n",
              "      <td>2.0</td>\n",
              "      <td>AB</td>\n",
              "    </tr>\n",
              "  </tbody>\n",
              "</table>\n",
              "</div>"
            ],
            "text/plain": [
              "               address  attributes attributes.AcceptsInsurance attributes.AgesAllowed  \\\n",
              "0    1314 44 Avenue NE         NaN                         NaN                    NaN   \n",
              "1                  NaN         NaN                         NaN                    NaN   \n",
              "2  1335 rue Beaubien E         NaN                         NaN                    NaN   \n",
              "3      211 W Monroe St         NaN                         NaN                    NaN   \n",
              "4  2005 Alyth Place SE         NaN                         NaN                    NaN   \n",
              "\n",
              "  attributes.Alcohol                                attributes.Ambience attributes.BYOB  \\\n",
              "0                NaN                                                NaN             NaN   \n",
              "1               none                                                NaN             NaN   \n",
              "2      beer_and_wine  {'romantic': False, 'intimate': False, 'classy...             NaN   \n",
              "3                NaN                                                NaN             NaN   \n",
              "4                NaN                                                NaN             NaN   \n",
              "\n",
              "  attributes.BYOBCorkage attributes.BestNights attributes.BikeParking  \\\n",
              "0                    NaN                   NaN                  False   \n",
              "1                    NaN                   NaN                  False   \n",
              "2                    NaN                   NaN                   True   \n",
              "3                    NaN                   NaN                    NaN   \n",
              "4                    NaN                   NaN                    NaN   \n",
              "\n",
              "  attributes.BusinessAcceptsBitcoin attributes.BusinessAcceptsCreditCards  \\\n",
              "0                               NaN                                  True   \n",
              "1                               NaN                                  True   \n",
              "2                               NaN                                 False   \n",
              "3                               NaN                                   NaN   \n",
              "4                               NaN                                  True   \n",
              "\n",
              "                          attributes.BusinessParking attributes.ByAppointmentOnly  \\\n",
              "0  {'garage': False, 'street': True, 'validated':...                          NaN   \n",
              "1  {'garage': False, 'street': True, 'validated':...                          NaN   \n",
              "2  {'garage': False, 'street': False, 'validated'...                          NaN   \n",
              "3                                                NaN                          NaN   \n",
              "4                                                NaN                          NaN   \n",
              "\n",
              "  attributes.Caters attributes.CoatCheck attributes.Corkage attributes.DietaryRestrictions  \\\n",
              "0               NaN                  NaN                NaN                            NaN   \n",
              "1              True                  NaN                NaN                            NaN   \n",
              "2             False                  NaN                NaN                            NaN   \n",
              "3               NaN                  NaN                NaN                            NaN   \n",
              "4               NaN                  NaN                NaN                            NaN   \n",
              "\n",
              "  attributes.DogsAllowed attributes.DriveThru attributes.GoodForDancing attributes.GoodForKids  \\\n",
              "0                    NaN                  NaN                       NaN                   True   \n",
              "1                   True                False                       NaN                   True   \n",
              "2                    NaN                  NaN                       NaN                   True   \n",
              "3                    NaN                  NaN                       NaN                    NaN   \n",
              "4                    NaN                  NaN                       NaN                    NaN   \n",
              "\n",
              "                              attributes.GoodForMeal attributes.HairSpecializesIn  \\\n",
              "0                                                NaN                          NaN   \n",
              "1  {'dessert': False, 'latenight': False, 'lunch'...                          NaN   \n",
              "2  {'dessert': False, 'latenight': False, 'lunch'...                          NaN   \n",
              "3                                                NaN                          NaN   \n",
              "4                                                NaN                          NaN   \n",
              "\n",
              "  attributes.HappyHour attributes.HasTV attributes.Music attributes.NoiseLevel  \\\n",
              "0                  NaN             True              NaN               average   \n",
              "1                  NaN            False              NaN                   NaN   \n",
              "2                  NaN             True              NaN               average   \n",
              "3                  NaN              NaN              NaN                   NaN   \n",
              "4                  NaN              NaN              NaN                   NaN   \n",
              "\n",
              "  attributes.Open24Hours attributes.OutdoorSeating attributes.RestaurantsAttire  \\\n",
              "0                    NaN                     False                       casual   \n",
              "1                    NaN                      True                       casual   \n",
              "2                    NaN                     False                       casual   \n",
              "3                    NaN                       NaN                          NaN   \n",
              "4                    NaN                       NaN                          NaN   \n",
              "\n",
              "  attributes.RestaurantsCounterService attributes.RestaurantsDelivery  \\\n",
              "0                                  NaN                          False   \n",
              "1                                  NaN                          False   \n",
              "2                                  NaN                          False   \n",
              "3                                  NaN                            NaN   \n",
              "4                                  NaN                            NaN   \n",
              "\n",
              "  attributes.RestaurantsGoodForGroups  attributes.RestaurantsPriceRange2  \\\n",
              "0                                True                                2.0   \n",
              "1                                True                                2.0   \n",
              "2                                True                                2.0   \n",
              "3                                 NaN                                NaN   \n",
              "4                                 NaN                                NaN   \n",
              "\n",
              "  attributes.RestaurantsReservations attributes.RestaurantsTableService  \\\n",
              "0                               True                                NaN   \n",
              "1                              False                              False   \n",
              "2                               True                               True   \n",
              "3                                NaN                                NaN   \n",
              "4                                NaN                                NaN   \n",
              "\n",
              "  attributes.RestaurantsTakeOut attributes.Smoking attributes.WheelchairAccessible  \\\n",
              "0                          True                NaN                             NaN   \n",
              "1                          True                NaN                            True   \n",
              "2                         False                NaN                             NaN   \n",
              "3                           NaN                NaN                             NaN   \n",
              "4                           NaN                NaN                             NaN   \n",
              "\n",
              "  attributes.WiFi             business_id                                         categories  \\\n",
              "0             NaN  Apn5Q_b6Nz61Tq4XzPdf9A  Tours, Breweries, Pizza, Restaurants, Food, Ho...   \n",
              "1              no  AjEbIBw6ZFfln7ePHha9PA  Chicken Wings, Burgers, Caterers, Street Vendo...   \n",
              "2            free  O8S5hYJ1SMc8fA4QBtVujA  Breakfast & Brunch, Restaurants, French, Sandw...   \n",
              "3             NaN  bFzdJJ3wp3PZssNEsyU23g                      Insurance, Financial Services   \n",
              "4             NaN  8USyCYqpScwiNEb58Bt6CA  Home & Garden, Nurseries & Gardening, Shopping...   \n",
              "\n",
              "        city  hours hours.Friday hours.Monday hours.Saturday hours.Sunday hours.Thursday  \\\n",
              "0    Calgary    NaN    11:0-21:0    8:30-17:0      11:0-21:0          NaN      11:0-21:0   \n",
              "1  Henderson    NaN    17:0-23:0          NaN      17:0-23:0    17:0-23:0            NaN   \n",
              "2   Montréal    NaN    10:0-22:0    10:0-22:0      10:0-22:0    10:0-22:0      10:0-22:0   \n",
              "3    Phoenix    NaN          NaN          NaN            NaN          NaN            NaN   \n",
              "4    Calgary    NaN     8:0-17:0     8:0-17:0            NaN          NaN       8:0-17:0   \n",
              "\n",
              "  hours.Tuesday hours.Wednesday  is_open   latitude   longitude                  name  \\\n",
              "0     11:0-21:0       11:0-21:0        1  51.091813 -114.031675  Minhas Micro Brewery   \n",
              "1           NaN             NaN        0  35.960734 -114.939821   CK'S BBQ & Catering   \n",
              "2     10:0-22:0       10:0-22:0        0  45.540503  -73.599300         La Bastringue   \n",
              "3           NaN             NaN        1  33.449999 -112.076979       Geico Insurance   \n",
              "4      8:0-17:0        8:0-17:0        1  51.035591 -114.027366         Action Engine   \n",
              "\n",
              "                neighborhood postal_code  review_count  stars state  \n",
              "0                        NaN     T2E 6L6            24    4.0    AB  \n",
              "1                        NaN       89002             3    4.5    NV  \n",
              "2  Rosemont-La Petite-Patrie     H2G 1K7             5    4.0    QC  \n",
              "3                        NaN       85003             8    1.5    AZ  \n",
              "4                        NaN     T2H 0N5             4    2.0    AB  "
            ]
          },
          "metadata": {
            "tags": []
          },
          "execution_count": 3
        }
      ]
    },
    {
      "cell_type": "markdown",
      "metadata": {
        "id": "nmHU_Qvj6czC",
        "colab_type": "text"
      },
      "source": [
        "## Task Set #1 - Explore and Clean"
      ]
    },
    {
      "cell_type": "markdown",
      "metadata": {
        "id": "hmQ-KXBd6czD",
        "colab_type": "text"
      },
      "source": [
        "### Problem 1: (5 points)\n",
        "\n",
        "<span  style=\"color:purple; font-size:16px\">The `yelp_academic_dataset_business.csv` data has been loaded for you as a Pandas DataFrame called `business_data`. Determine the  number of rows and columns of the data. Is the data in a tidy format? Briefly explain your reasoning about why you think the data is/is not tidy.</span>"
      ]
    },
    {
      "cell_type": "code",
      "metadata": {
        "id": "YjhnXama6czE",
        "colab_type": "code",
        "colab": {}
      },
      "source": [
        "# Your code here\n"
      ],
      "execution_count": 0,
      "outputs": []
    },
    {
      "cell_type": "markdown",
      "metadata": {
        "id": "HxKuI4rq6czH",
        "colab_type": "text"
      },
      "source": [
        "#### Written Answer:\n",
        "\n",
        "*{Type your answer here}*\n",
        "\n"
      ]
    },
    {
      "cell_type": "markdown",
      "metadata": {
        "id": "QlCHn5im6czH",
        "colab_type": "text"
      },
      "source": [
        "### Problem 2: (5 points)\n",
        "\n",
        "<span  style=\"color:purple; font-size:16px\">Determine the number of columns of each data type in `business_data`: object, float64, int64. </span>"
      ]
    },
    {
      "cell_type": "code",
      "metadata": {
        "id": "qBaqNNYv6czI",
        "colab_type": "code",
        "colab": {}
      },
      "source": [
        "# Your code here\n"
      ],
      "execution_count": 0,
      "outputs": []
    },
    {
      "cell_type": "markdown",
      "metadata": {
        "id": "ucWFo2_P6czL",
        "colab_type": "text"
      },
      "source": [
        "### Problem 3: (5 points)\n",
        "\n",
        "<span  style=\"color:purple; font-size:16px\">Create a Pandas Series containing the proportion of missing values in each column of `business_data`.</span>"
      ]
    },
    {
      "cell_type": "code",
      "metadata": {
        "id": "11DRVB0J6czL",
        "colab_type": "code",
        "colab": {}
      },
      "source": [
        "# Your code here\n"
      ],
      "execution_count": 0,
      "outputs": []
    },
    {
      "cell_type": "markdown",
      "metadata": {
        "id": "nxjFgSu96czP",
        "colab_type": "text"
      },
      "source": [
        "<span  style=\"color:purple; font-size:16px\">How many variables have no missing values?</span>"
      ]
    },
    {
      "cell_type": "code",
      "metadata": {
        "id": "KSIuThSF6czQ",
        "colab_type": "code",
        "colab": {}
      },
      "source": [
        "# Your code here\n"
      ],
      "execution_count": 0,
      "outputs": []
    },
    {
      "cell_type": "markdown",
      "metadata": {
        "id": "lLX_AxV86czS",
        "colab_type": "text"
      },
      "source": [
        "### Problem 4: (5 points)\n",
        "\n",
        "<span  style=\"color:purple; font-size:16px\">Use an appropriate visualization technique to analyze the missingness in `business_data`.</span>"
      ]
    },
    {
      "cell_type": "code",
      "metadata": {
        "id": "Yx1tTgAw6czT",
        "colab_type": "code",
        "colab": {}
      },
      "source": [
        "# Use a heatmap, pointplot, or other appropriate visualization here\n"
      ],
      "execution_count": 0,
      "outputs": []
    },
    {
      "cell_type": "markdown",
      "metadata": {
        "id": "l01JHKVO6czV",
        "colab_type": "text"
      },
      "source": [
        "### Problem 5: (5 points)\n",
        "\n",
        "<span  style=\"color:purple; font-size:16px\">Drop all columns that contain **only missing values** from `business_data`.</span>"
      ]
    },
    {
      "cell_type": "code",
      "metadata": {
        "id": "wnk1BNUi6czW",
        "colab_type": "code",
        "colab": {}
      },
      "source": [
        "# Your code here\n"
      ],
      "execution_count": 0,
      "outputs": []
    },
    {
      "cell_type": "markdown",
      "metadata": {
        "id": "5qfja89L6czY",
        "colab_type": "text"
      },
      "source": [
        "### Problem 6: (5 points)\n",
        "\n",
        "<span  style=\"color:purple; font-size:16px\">The `business_data` is not in a form that is convenient for analysis. Let's begin by cleaning up the variable names. </span>\n",
        "\n",
        "Tasks:\n",
        "\n",
        "1. Make all column names lowercase.\n",
        "1. Replace all periods `.` with an underscore _"
      ]
    },
    {
      "cell_type": "code",
      "metadata": {
        "id": "w46iF7Xj6czZ",
        "colab_type": "code",
        "colab": {}
      },
      "source": [
        "# Your code here\n"
      ],
      "execution_count": 0,
      "outputs": []
    },
    {
      "cell_type": "markdown",
      "metadata": {
        "id": "OafJIVS96czb",
        "colab_type": "text"
      },
      "source": [
        "### Problem 7: (5 points)\n",
        "\n",
        "<span  style=\"color:purple; font-size:16px\">Let's now get rid of columns that we don't need right now. Perform the following transformation steps to the data.</span>\n",
        "\n",
        "1. Drop all `attribute_*` columns except for the `attributes_happyhour` column.\n",
        "1. Create a new column, called `open_on_weekends`, that is a 1 if the business is open on the weekend (has a non-null value for either `hours_saturday` or `hours_sunday`) and 0 otherwise.\n",
        "1. Drop all of the `hours_*` columns after creating the `open_on_weekends` column."
      ]
    },
    {
      "cell_type": "code",
      "metadata": {
        "id": "qhhNLkWu6czc",
        "colab_type": "code",
        "colab": {}
      },
      "source": [
        "# Drop all of the unwanted attributes columns\n"
      ],
      "execution_count": 0,
      "outputs": []
    },
    {
      "cell_type": "code",
      "metadata": {
        "id": "n1TDfEtG6czf",
        "colab_type": "code",
        "colab": {}
      },
      "source": [
        "# Create open_on_weekends\n"
      ],
      "execution_count": 0,
      "outputs": []
    },
    {
      "cell_type": "code",
      "metadata": {
        "id": "E-CoMc9v6czh",
        "colab_type": "code",
        "colab": {}
      },
      "source": [
        "# Remove hours.* columns\n"
      ],
      "execution_count": 0,
      "outputs": []
    },
    {
      "cell_type": "markdown",
      "metadata": {
        "id": "-Pan8NYO6czk",
        "colab_type": "text"
      },
      "source": [
        "### Problem 8: (5 points)\n",
        "\n",
        "<span  style=\"color:purple; font-size:16px\">Create a Pandas Series containing the proportion of business in the data by state. (For now, a *state* refers to any level of the `state` variable, not only states in the U.S.A.)</span>"
      ]
    },
    {
      "cell_type": "code",
      "metadata": {
        "id": "VbM605nU6czk",
        "colab_type": "code",
        "colab": {}
      },
      "source": [
        "# Number of businesses by state\n"
      ],
      "execution_count": 0,
      "outputs": []
    },
    {
      "cell_type": "markdown",
      "metadata": {
        "id": "20k6KeaF6czn",
        "colab_type": "text"
      },
      "source": [
        "<span  style=\"color:purple; font-size:16px\">How many unique states are represented in the data? Are all of them in the United States of America? Do all of the levels of `state` make sense?</span>"
      ]
    },
    {
      "cell_type": "markdown",
      "metadata": {
        "id": "8uF6-NeI6czn",
        "colab_type": "text"
      },
      "source": [
        "#### Written Answer:\n",
        "\n",
        "*{Type your answer here}*\n",
        "\n"
      ]
    },
    {
      "cell_type": "markdown",
      "metadata": {
        "id": "0s3kRvZ66czo",
        "colab_type": "text"
      },
      "source": [
        "### Problem 9: (5 points)\n",
        "\n",
        "<span  style=\"color:purple; font-size:16px\">These data are fairly large! Let's focus on the data from a few key states. The goal in this exercise is to subset `business_data` to only contain businesses in the 5 states having the largest total number of businesses in the state. (Again, *state* does not need to correspond to a state in the U.S.A. but simply refers to a level of the `state` column.)</span>\n",
        "\n",
        "Tasks:\n",
        "\n",
        "1. Extract the 5 states from `state_counts` with the largest number of businesses\n",
        "2. Subset `business_data` to only contain observations from these top-5 states"
      ]
    },
    {
      "cell_type": "code",
      "metadata": {
        "id": "i2vrPBUm6czp",
        "colab_type": "code",
        "colab": {}
      },
      "source": [
        "# Your code here\n"
      ],
      "execution_count": 0,
      "outputs": []
    },
    {
      "cell_type": "markdown",
      "metadata": {
        "id": "YjDPGXLV6czr",
        "colab_type": "text"
      },
      "source": [
        "### Problem 10:  (5 points)\n",
        "\n",
        "<span  style=\"color:purple; font-size:16px\">Import the `territory_abbr.csv` data which contains a record for every U.S. state and territory. Use this data to **remove** businesses outside of the United States *by* performing an appropriate **merge** with `business_data`. Assign the remaining data to a DataFrame called `business_data_subset`.</span>\n",
        "\n",
        "(Of course...you could probably figure out what state(s) need to be removed just by looking at them. The point is to demonstrate that you can use `merge()` and any necessary arguments to accomplish the task. Also...don't mess up your tidy data! Though not necessary for full credit, you may want to remove/modify columns that are not lowercase.)"
      ]
    },
    {
      "cell_type": "code",
      "metadata": {
        "id": "c6BoOhbx6czu",
        "colab_type": "code",
        "colab": {},
        "outputId": "148f3b5e-c71c-472c-f48f-1f6f9d86dc20"
      },
      "source": [
        "# Read in data\n",
        "\n",
        "us_data = pd.read_csv('data-sets/territory_abbr.csv')\n",
        "us_data.head()"
      ],
      "execution_count": 0,
      "outputs": [
        {
          "output_type": "execute_result",
          "data": {
            "text/html": [
              "<div>\n",
              "<style scoped>\n",
              "    .dataframe tbody tr th:only-of-type {\n",
              "        vertical-align: middle;\n",
              "    }\n",
              "\n",
              "    .dataframe tbody tr th {\n",
              "        vertical-align: top;\n",
              "    }\n",
              "\n",
              "    .dataframe thead th {\n",
              "        text-align: right;\n",
              "    }\n",
              "</style>\n",
              "<table border=\"1\" class=\"dataframe\">\n",
              "  <thead>\n",
              "    <tr style=\"text-align: right;\">\n",
              "      <th></th>\n",
              "      <th>State</th>\n",
              "      <th>Abbreviation</th>\n",
              "    </tr>\n",
              "  </thead>\n",
              "  <tbody>\n",
              "    <tr>\n",
              "      <th>0</th>\n",
              "      <td>Alabama</td>\n",
              "      <td>AL</td>\n",
              "    </tr>\n",
              "    <tr>\n",
              "      <th>1</th>\n",
              "      <td>Alaska</td>\n",
              "      <td>AK</td>\n",
              "    </tr>\n",
              "    <tr>\n",
              "      <th>2</th>\n",
              "      <td>Arizona</td>\n",
              "      <td>AZ</td>\n",
              "    </tr>\n",
              "    <tr>\n",
              "      <th>3</th>\n",
              "      <td>Arkansas</td>\n",
              "      <td>AR</td>\n",
              "    </tr>\n",
              "    <tr>\n",
              "      <th>4</th>\n",
              "      <td>California</td>\n",
              "      <td>CA</td>\n",
              "    </tr>\n",
              "  </tbody>\n",
              "</table>\n",
              "</div>"
            ],
            "text/plain": [
              "        State Abbreviation\n",
              "0     Alabama           AL\n",
              "1      Alaska           AK\n",
              "2     Arizona           AZ\n",
              "3    Arkansas           AR\n",
              "4  California           CA"
            ]
          },
          "metadata": {
            "tags": []
          },
          "execution_count": 16
        }
      ]
    },
    {
      "cell_type": "code",
      "metadata": {
        "id": "lRUZIIkd6czy",
        "colab_type": "code",
        "colab": {}
      },
      "source": [
        "# Your code here\n"
      ],
      "execution_count": 0,
      "outputs": []
    },
    {
      "cell_type": "markdown",
      "metadata": {
        "id": "BcOiJVN26cz1",
        "colab_type": "text"
      },
      "source": [
        "<span  style=\"color:purple; font-size:16px\">How many unique U.S. states are left in the data?</span>"
      ]
    },
    {
      "cell_type": "code",
      "metadata": {
        "id": "ztA6KJ2P6cz1",
        "colab_type": "code",
        "colab": {}
      },
      "source": [
        "# Your code here\n"
      ],
      "execution_count": 0,
      "outputs": []
    },
    {
      "cell_type": "markdown",
      "metadata": {
        "id": "jTpaLWJp6cz3",
        "colab_type": "text"
      },
      "source": [
        "## Task Set #2 - Analysis\n",
        "\n",
        "---"
      ]
    },
    {
      "cell_type": "markdown",
      "metadata": {
        "id": "HUpxd6Tp6cz4",
        "colab_type": "text"
      },
      "source": [
        "### Problem 11: (5 points)\n",
        "\n",
        "<span  style=\"color:purple; font-size:16px\">Do businesses with more reviews tend to have higher ratings? </span> \n",
        "\n",
        "<span  style=\"color:purple; font-size:16px\">To help answer this question, use `business_data` to create *side-by-side notched boxplots* to visualize the relationship between the number of reviews left for the business (`review_count`, y-axis) and the rating of the business (`stars`, x-axis).</span> \n",
        "    \n",
        "<span  style=\"color:purple; font-size:16px\">**Note: use `ax.set_yscale('log')` to set the scale of the y-axis to be logarithmic due to extreme variation in the number of reviews left for the businesses. This means you must specify a figure and axes object using `fig, ax = plt.subplots(figsize=(10, 10))`**</span>\n",
        "    \n",
        "<span>Make sure to use appropriate axes labels and include an appropriate title. Make the figure 10 units tall and 10 units wide.</span>"
      ]
    },
    {
      "cell_type": "code",
      "metadata": {
        "id": "fb5NEWm-6cz5",
        "colab_type": "code",
        "colab": {}
      },
      "source": [
        "# Your code here\n",
        "\n"
      ],
      "execution_count": 0,
      "outputs": []
    },
    {
      "cell_type": "markdown",
      "metadata": {
        "id": "ueeTXk9a6cz7",
        "colab_type": "text"
      },
      "source": [
        "<span  style=\"color:purple; font-size:16px\">Describe what you see in the plot and formulate a hypothesis about why the relationship between these variables looks the way it does.</span>"
      ]
    },
    {
      "cell_type": "markdown",
      "metadata": {
        "id": "26UYm-_G6cz8",
        "colab_type": "text"
      },
      "source": [
        "#### Written Answer:\n",
        "\n",
        "*{Type your answer here}*\n",
        "\n"
      ]
    },
    {
      "cell_type": "markdown",
      "metadata": {
        "id": "Rx2lLsoq6cz9",
        "colab_type": "text"
      },
      "source": [
        "### Problem 12: (5 points)\n",
        "\n",
        "<span  style=\"color:purple; font-size:16px\">The `categories` column of `business_data_subset` contains a *comma separated* list of various keyword categories for each business. Use an appropriate Python data structure to iterate over every row of the data and determine all of the unique categories as well as the number of times each category appears, sorted from most common category to least common category.</span>\n",
        "\n",
        "Your result should look like the following:\n",
        "\n",
        "<pre>\n",
        "Restaurants                  234\n",
        "Shopping                     173\n",
        "Home Services                132\n",
        "Food                         120\n",
        "Health & Medical              92\n",
        ".\n",
        ".\n",
        "."
      ]
    },
    {
      "cell_type": "code",
      "metadata": {
        "id": "tukUuLPh6cz-",
        "colab_type": "code",
        "colab": {}
      },
      "source": [
        "# Your code here\n",
        "\n"
      ],
      "execution_count": 0,
      "outputs": []
    },
    {
      "cell_type": "markdown",
      "metadata": {
        "id": "_Klm8UNd6c0A",
        "colab_type": "text"
      },
      "source": [
        "<span  style=\"color:purple; font-size:16px\">How many distinct categories are in `business_data_subset`?</span>"
      ]
    },
    {
      "cell_type": "code",
      "metadata": {
        "id": "nu2MHPcy6c0A",
        "colab_type": "code",
        "colab": {}
      },
      "source": [
        "# Number of distinct categories equal to the number of rows\n",
        "\n"
      ],
      "execution_count": 0,
      "outputs": []
    },
    {
      "cell_type": "markdown",
      "metadata": {
        "id": "XqdMDLdK6c0C",
        "colab_type": "text"
      },
      "source": [
        "### Problem 13: (5 points)\n",
        "\n",
        "<span  style=\"color:purple; font-size:16px\">For this question, we want to see if we can use the `categories` variable from the `business_data_subset` table to extract the records belonging to **food establishments** - any place that someone could go to get a freshly prepared meal.</span>\n",
        "\n",
        "<span  style=\"color:purple; font-size:16px\">Create a copy of the Pandas DataFrame called `food_establishments` which contains all business in `business_data_subset` that contain either *dining* or *restaurant* in their list of categories. (Make sure to ignore case.) How many food establishments are captured using this method?</span>\n",
        "\n",
        "Hint: This can be accomplished in at least two ways. No reasonable method is bad! Create a new variable and use it to filter observations or directly subset the data. Your choice!"
      ]
    },
    {
      "cell_type": "code",
      "metadata": {
        "id": "g3sRzoAn6c0D",
        "colab_type": "code",
        "colab": {}
      },
      "source": [
        "# Your code here\n"
      ],
      "execution_count": 0,
      "outputs": []
    },
    {
      "cell_type": "markdown",
      "metadata": {
        "id": "qxCj2ybG6c0G",
        "colab_type": "text"
      },
      "source": [
        "### Problem 14: (5 points)\n",
        "\n",
        "<span  style=\"color:purple; font-size:16px\">Using the `food_establishments` table, create a table with `stars` as the index, `state` as the columns, and the conditional `stars` distribution of food establishments for each `state` as values.</span>\n",
        "\n",
        "<span  style=\"color:purple; font-size:16px\">Include the marginal `stars` distribution in your table by using the appropriate `margins` argument. Create a valid conditional `stars` distribution for each state using the `normalize = 'columns'` argument.</span>\n",
        "\n",
        "You can check that you have successfully create valid conditional `stars` distributions for each state by verifying each column sums to 1. \n",
        "\n",
        "Your final table should look similar to the table below with the appropriate values imputed for `val`.\n",
        "\n",
        "| state  \t|  AZ \t| NV  \t| NC  \t| OH  | All |\n",
        "|---\t|---\t|---\t|---\t|---  |---  |\n",
        "|   stars \t|\n",
        "|   1 \t|   val\t|  val \t|  val \t| val   | val    |\n",
        "|   1.5\t|   val\t|  val\t|  val \t| val   | val    |\n",
        "|   2\t|   val\t|  val \t|  val \t| val   | val    |\n",
        "|   2.5\t|   val\t|  val\t|  val \t| val   | val    |\n",
        "|   3\t|   val\t|  val \t|  val \t| val   | val    |\n",
        "|   3.5\t|   val\t|  val\t|  val \t| val   | val    |\n",
        "|   4\t|   val\t|  val \t|  val \t| val   | val    |\n",
        "|   4.5\t|   val\t|  val \t|  val \t| val   | val    |\n",
        "|   5\t|   val\t|  val \t|  val \t| val   | val    |"
      ]
    },
    {
      "cell_type": "code",
      "metadata": {
        "id": "KJsZH1326c0H",
        "colab_type": "code",
        "colab": {}
      },
      "source": [
        "# Your code here\n"
      ],
      "execution_count": 0,
      "outputs": []
    },
    {
      "cell_type": "markdown",
      "metadata": {
        "id": "B6am5SXq6c0K",
        "colab_type": "text"
      },
      "source": [
        "### Problem 15: (5 points)\n",
        "\n",
        "<span  style=\"color:purple; font-size:16px\">Is there a difference in the rating distribution (`stars`) of food establishments by state?</span>\n",
        "\n",
        "<span  style=\"color:purple; font-size:16px\">Use the table you created in the previous problem to create an appropriate visualization that helps you to answer the above question.</span>"
      ]
    },
    {
      "cell_type": "code",
      "metadata": {
        "id": "PvHu-L6P6c0L",
        "colab_type": "code",
        "colab": {}
      },
      "source": [
        "# Your code here\n"
      ],
      "execution_count": 0,
      "outputs": []
    },
    {
      "cell_type": "markdown",
      "metadata": {
        "id": "bruQ0FFC6c0N",
        "colab_type": "text"
      },
      "source": [
        "### Problem 16: (5 points)\n",
        "\n",
        "<span  style=\"color:purple; font-size:16px\">Using the `food_establishments` data, calculate the *median*, *mean*, *standard deviation*, *minimum*, *maximum*, and *number of observations* for food establishments with/without a *Happy Hour* by using the `attributes_happyhour` variable.</span>"
      ]
    },
    {
      "cell_type": "code",
      "metadata": {
        "id": "KP92oHaU6c0O",
        "colab_type": "code",
        "colab": {}
      },
      "source": [
        "# Your code here\n"
      ],
      "execution_count": 0,
      "outputs": []
    },
    {
      "cell_type": "markdown",
      "metadata": {
        "id": "pjg1zlHS6c0X",
        "colab_type": "text"
      },
      "source": [
        "<span  style=\"color:purple; font-size:16px\">Describe any differences you find for food establishments having a *Happy Hour* and those that do not. Do food establishments with a happy hour seem to typically be higher or lower rated than food establishments without a happy hour? Do most food establishments offer a happy hour?</span>"
      ]
    },
    {
      "cell_type": "markdown",
      "metadata": {
        "id": "se_oSl2Y6c0X",
        "colab_type": "text"
      },
      "source": [
        "#### Written Answer:\n",
        "\n",
        "*{Type your answer here}*\n",
        "\n"
      ]
    },
    {
      "cell_type": "markdown",
      "metadata": {
        "id": "KoK-CQsA6c0Y",
        "colab_type": "text"
      },
      "source": [
        "### Problem 17: (5 points)\n",
        "\n",
        "<span  style=\"color:purple; font-size:16px\">Let's investigate differences in food establishments with/without a Happy Hour using an appropriate visualization.</span>\n",
        "    \n",
        "<span  style=\"color:purple; font-size:16px\">First, create a new variable for the `food_establishments` table called `binned_review_count` that bins the `review_count` variable as: \n",
        "    \n",
        " + '[0-10]' = having between 0 and 10 reviews inclusive\n",
        " + '(10,100]' = having between 10 and 100 reviews\n",
        " + '(100,1,000]' = having between 100 and 1,000 reviews\n",
        " + '1,000 +` = more than one thousand reviews.\n",
        "</span>\n",
        "\n",
        "<span  style=\"color:purple; font-size:16px\">Create a side-by-side violin plot with `binned_review_count` on the y-axis, `stars` on the x-axis, and allow the rating distributions to differ for establishments **with and without a Happy Hour** by using the `split = True` argument. As always, provide an appropriate title and axes labels.</span>"
      ]
    },
    {
      "cell_type": "code",
      "metadata": {
        "id": "N74vlo2_6c0Z",
        "colab_type": "code",
        "colab": {}
      },
      "source": [
        "# Your code here\n"
      ],
      "execution_count": 0,
      "outputs": []
    },
    {
      "cell_type": "markdown",
      "metadata": {
        "id": "eJclRRkC6c0b",
        "colab_type": "text"
      },
      "source": [
        "Describe what you see in the plot."
      ]
    },
    {
      "cell_type": "markdown",
      "metadata": {
        "id": "5nlbZrh66c0b",
        "colab_type": "text"
      },
      "source": [
        "#### Written Answer:\n",
        "\n",
        "*{Type your answer here}*\n",
        "\n"
      ]
    },
    {
      "cell_type": "markdown",
      "metadata": {
        "id": "iPpWSdOu6c0c",
        "colab_type": "text"
      },
      "source": [
        "### Problem 18: (5 points)\n",
        "\n",
        "<span  style=\"color:purple; font-size:16px\">Suppose you work at Yelp. You have been tasked with a new initiative to create a new award for the highest performing food establishments represented on the Yelp platform. The team at Yelp has determined that any food establishment that has both the highest `stars` rating **AND** the largest total number of reviews (`review_count`) in their city *deserves* the **Best Local Food Establishment Award**. You have been tasked with writing Python code that can determine which food establishments in a data set deserve this new prestigious award.</span>\n",
        "\n",
        "<span  style=\"color:purple; font-size:16px\">For this exercise, create a DataFrame containing all the food establishments in the `food_establishments` data that deserve **Best Local Food Establishment Award** for every city/state combination (to avoid issues with cities that have the same name). The final table that you are to create, called `best_food_establishments`, should provide the `name`, `city`, `state`, `review_count`, and `stars` ratings of all of the food establishments that deserve the award.</span>\n",
        "\n",
        "Important Notes: There are some slight variations in some city names like: LasVegas, Las Vegas, las vegas. You do not need to worry about cleaning this up before performing your analysis, this is really a proof-of-concept for your team. Also, some cities will have no food establishments that deserve to receive this award as it is possible that the food establishment with the largest number of reviews **does not** have the highest rating in the city."
      ]
    },
    {
      "cell_type": "code",
      "metadata": {
        "id": "TYuIPnlT6c0c",
        "colab_type": "code",
        "colab": {}
      },
      "source": [
        "# Your code here\n"
      ],
      "execution_count": 0,
      "outputs": []
    },
    {
      "cell_type": "markdown",
      "metadata": {
        "id": "VD0HBS-S6c0f",
        "colab_type": "text"
      },
      "source": [
        "### Problem 19: (10 points)\n",
        "\n",
        "<span  style=\"color:purple; font-size:16px\">Subsequent questions involve the `data-sets/yelp_academic_dataset_review.csv` data. Let's investigate the relationship between the data for businesses remaining in `business_data` (we subset the data in a previous problem, you can use it as is) and the `data-sets/yelp_academic_dataset_review.csv` data. One thing that would interesting to know is, does it appear that we have all the reviews for each business? For example: if we see a business in `business_data` has 14 reviews, does the review table contain all 14 of those reviews?</span>\n",
        "\n",
        "<span  style=\"color:purple; font-size:16px\">To determine whether this is the case:\n",
        "    \n",
        "  + Import the `data-sets/yelp_academic_dataset_review.csv` data.\n",
        "  + Subset the reviews data to only contain records for businesses in the `business_data` table.\n",
        "  + Use `groupby()` to get the counts of reviews for every unique business (by `business_id`) in the reviews data.\n",
        "  + Perform an appropriate join to the `business_data` table to create a DataFrame containing three columns: \n",
        "      1. `business_id`\n",
        "      1. `number_reviews` - the number of reviews for that particular business you found in the review table, \n",
        "      1. `review_count` - the number of reviews listed in the `food_establishments` table\n",
        "  + Create a new column `abs_diff` containing the absolute value of the difference in the number of reviews for each business in `business_data` and number of reviews from the reviews table.\n",
        "  + Create a plot that helps us see the extent of any disparities between the number of reviews in the review data and the number of reviews stated in the `business_id` table.\n",
        "  + Use the `describe()` method to numerically describe the extent of any disparities between the number of reviews in the `review_data` and the number of reviews stated in the `business_id` table in the `review_count` field.\n",
        "</span>"
      ]
    },
    {
      "cell_type": "code",
      "metadata": {
        "id": "tKg6xtyV6c0h",
        "colab_type": "code",
        "colab": {},
        "outputId": "d9126f3d-cb49-4780-faf8-07b21a5865c4"
      },
      "source": [
        "# Import the review data\n",
        "\n",
        "review_data = pd.read_csv(r'data-sets/yelp_academic_dataset_review.csv')\n",
        "review_data.head()"
      ],
      "execution_count": 0,
      "outputs": [
        {
          "output_type": "execute_result",
          "data": {
            "text/html": [
              "<div>\n",
              "<style scoped>\n",
              "    .dataframe tbody tr th:only-of-type {\n",
              "        vertical-align: middle;\n",
              "    }\n",
              "\n",
              "    .dataframe tbody tr th {\n",
              "        vertical-align: top;\n",
              "    }\n",
              "\n",
              "    .dataframe thead th {\n",
              "        text-align: right;\n",
              "    }\n",
              "</style>\n",
              "<table border=\"1\" class=\"dataframe\">\n",
              "  <thead>\n",
              "    <tr style=\"text-align: right;\">\n",
              "      <th></th>\n",
              "      <th>business_id</th>\n",
              "      <th>cool</th>\n",
              "      <th>date</th>\n",
              "      <th>funny</th>\n",
              "      <th>review_id</th>\n",
              "      <th>stars</th>\n",
              "      <th>text</th>\n",
              "      <th>useful</th>\n",
              "      <th>user_id</th>\n",
              "    </tr>\n",
              "  </thead>\n",
              "  <tbody>\n",
              "    <tr>\n",
              "      <th>0</th>\n",
              "      <td>iCQpiavjjPzJ5_3gPD5Ebg</td>\n",
              "      <td>0</td>\n",
              "      <td>2011-02-25</td>\n",
              "      <td>0.0</td>\n",
              "      <td>x7mDIiDB3jEiPGPHOmDzyw</td>\n",
              "      <td>2.0</td>\n",
              "      <td>The pizza was okay. Not the best I've had. I p...</td>\n",
              "      <td>0.0</td>\n",
              "      <td>msQe1u7Z_XuqjGoqhB0J5g</td>\n",
              "    </tr>\n",
              "    <tr>\n",
              "      <th>1</th>\n",
              "      <td>pomGBqfbxcqPv14c3XH-ZQ</td>\n",
              "      <td>0</td>\n",
              "      <td>2012-11-13</td>\n",
              "      <td>0.0</td>\n",
              "      <td>dDl8zu1vWPdKGihJrwQbpw</td>\n",
              "      <td>5.0</td>\n",
              "      <td>I love this place! My fiance And I go here atl...</td>\n",
              "      <td>0.0</td>\n",
              "      <td>msQe1u7Z_XuqjGoqhB0J5g</td>\n",
              "    </tr>\n",
              "    <tr>\n",
              "      <th>2</th>\n",
              "      <td>jtQARsP6P-LbkyjbO1qNGg</td>\n",
              "      <td>1</td>\n",
              "      <td>2014-10-23</td>\n",
              "      <td>1.0</td>\n",
              "      <td>LZp4UX5zK3e-c5ZGSeo3kA</td>\n",
              "      <td>1.0</td>\n",
              "      <td>Terrible. Dry corn bread. Rib tips were all fa...</td>\n",
              "      <td>3.0</td>\n",
              "      <td>msQe1u7Z_XuqjGoqhB0J5g</td>\n",
              "    </tr>\n",
              "    <tr>\n",
              "      <th>3</th>\n",
              "      <td>elqbBhBfElMNSrjFqW3now</td>\n",
              "      <td>0</td>\n",
              "      <td>2011-02-25</td>\n",
              "      <td>0.0</td>\n",
              "      <td>Er4NBWCmCD4nM8_p1GRdow</td>\n",
              "      <td>2.0</td>\n",
              "      <td>Back in 2005-2007 this place was my FAVORITE t...</td>\n",
              "      <td>2.0</td>\n",
              "      <td>msQe1u7Z_XuqjGoqhB0J5g</td>\n",
              "    </tr>\n",
              "    <tr>\n",
              "      <th>4</th>\n",
              "      <td>Ums3gaP2qM3W1XcA5r6SsQ</td>\n",
              "      <td>0</td>\n",
              "      <td>2014-09-05</td>\n",
              "      <td>0.0</td>\n",
              "      <td>jsDu6QEJHbwP2Blom1PLCA</td>\n",
              "      <td>5.0</td>\n",
              "      <td>Delicious healthy food. The steak is amazing. ...</td>\n",
              "      <td>0.0</td>\n",
              "      <td>msQe1u7Z_XuqjGoqhB0J5g</td>\n",
              "    </tr>\n",
              "  </tbody>\n",
              "</table>\n",
              "</div>"
            ],
            "text/plain": [
              "              business_id  cool        date  funny               review_id  stars  \\\n",
              "0  iCQpiavjjPzJ5_3gPD5Ebg     0  2011-02-25    0.0  x7mDIiDB3jEiPGPHOmDzyw    2.0   \n",
              "1  pomGBqfbxcqPv14c3XH-ZQ     0  2012-11-13    0.0  dDl8zu1vWPdKGihJrwQbpw    5.0   \n",
              "2  jtQARsP6P-LbkyjbO1qNGg     1  2014-10-23    1.0  LZp4UX5zK3e-c5ZGSeo3kA    1.0   \n",
              "3  elqbBhBfElMNSrjFqW3now     0  2011-02-25    0.0  Er4NBWCmCD4nM8_p1GRdow    2.0   \n",
              "4  Ums3gaP2qM3W1XcA5r6SsQ     0  2014-09-05    0.0  jsDu6QEJHbwP2Blom1PLCA    5.0   \n",
              "\n",
              "                                                text  useful                 user_id  \n",
              "0  The pizza was okay. Not the best I've had. I p...     0.0  msQe1u7Z_XuqjGoqhB0J5g  \n",
              "1  I love this place! My fiance And I go here atl...     0.0  msQe1u7Z_XuqjGoqhB0J5g  \n",
              "2  Terrible. Dry corn bread. Rib tips were all fa...     3.0  msQe1u7Z_XuqjGoqhB0J5g  \n",
              "3  Back in 2005-2007 this place was my FAVORITE t...     2.0  msQe1u7Z_XuqjGoqhB0J5g  \n",
              "4  Delicious healthy food. The steak is amazing. ...     0.0  msQe1u7Z_XuqjGoqhB0J5g  "
            ]
          },
          "metadata": {
            "tags": []
          },
          "execution_count": 28
        }
      ]
    },
    {
      "cell_type": "code",
      "metadata": {
        "id": "zb_ki09q6c0j",
        "colab_type": "code",
        "colab": {}
      },
      "source": [
        "# Your code here\n"
      ],
      "execution_count": 0,
      "outputs": []
    },
    {
      "cell_type": "markdown",
      "metadata": {
        "id": "PJW8Vn6m6c0l",
        "colab_type": "text"
      },
      "source": [
        "Describe what you see in the plot and the output from `describe()`. Does it appear that we have the all or most of the reviews for every business in the `business_data` table?"
      ]
    },
    {
      "cell_type": "markdown",
      "metadata": {
        "id": "PPdoa9bH6c0l",
        "colab_type": "text"
      },
      "source": [
        "#### Written Answer:\n",
        "\n",
        "*{Type your answer here}*\n",
        "\n"
      ]
    },
    {
      "cell_type": "code",
      "metadata": {
        "id": "_eKMRIzJ6c0m",
        "colab_type": "code",
        "colab": {}
      },
      "source": [
        "# Import the user data table\n",
        "\n",
        "#user_data = pd.read_csv(r'data-sets/yelp_academic_dataset_user.csv')"
      ],
      "execution_count": 0,
      "outputs": []
    },
    {
      "cell_type": "markdown",
      "metadata": {
        "id": "HzD0WTBI6c0m",
        "colab_type": "text"
      },
      "source": [
        "---\n",
        "\n",
        "## Wrapping up\n",
        "\n",
        "In this section of the exercise, you will be focused on analyzing the Yelp users and the reviews they leave. Unlike the previous part, you will not be guided through each step and must decide how best to proceed.\n",
        "\n",
        "Your analyses will involve the following 3 tables:\n",
        "\n",
        "+ `yelp_academic_dataset_review.csv` - contains a subset of Yelp reviews with a `business_id` indicating what business the review is for and a `user_id` to identify the user leaving the review.\n",
        "\n",
        "+ `yelp_academic_dataset_user.csv` - contains a subset of Yelp users identified by `user_id`\n",
        "\n",
        "+ `yelp_academic_dataset_business.csv` - contains information about a subset of businesses having at least one Yelp review and every distinct business has a unique `business_id`. This is the table that we have been analyzing in Problems 1-19. \n"
      ]
    },
    {
      "cell_type": "markdown",
      "metadata": {
        "id": "T9XGnLCR6c0o",
        "colab_type": "text"
      },
      "source": [
        "### Problem 20: Time Based Analysis (20 points)\n",
        "\n",
        "<span  style=\"color:purple; font-size:16px\">The `review_data` table contains a column `date` representing the date the review was created.</span>\n",
        "\n",
        "Chose **ONE** of the questions below and use the `review_data` to answer.\n",
        "\n",
        "1. Are more reviews posted during certain days of the week? What about certain months of the year? What patterns can you find about when reviews are posted? Draw a suitable plot.\n",
        "\n",
        "1. Do reviews made on certain days of the week or certain months of the year tend to be higher/lower rated? What relationship can you find between the `stars` ratings of a review and when the reviews was posted? Draw a suitable plot."
      ]
    },
    {
      "cell_type": "code",
      "metadata": {
        "id": "uAm1xd906c0p",
        "colab_type": "code",
        "colab": {}
      },
      "source": [
        "# Your code here\n"
      ],
      "execution_count": 0,
      "outputs": []
    },
    {
      "cell_type": "markdown",
      "metadata": {
        "id": "NZ93bYSy6c0s",
        "colab_type": "text"
      },
      "source": [
        "<span  style=\"color:purple; font-size:16px\">Provide a brief explanation of your conclusions.</span>"
      ]
    },
    {
      "cell_type": "markdown",
      "metadata": {
        "id": "PeH2U_vX6c0u",
        "colab_type": "text"
      },
      "source": [
        "#### Written Answer:\n",
        "\n",
        "*{Type your answer here}*\n",
        "\n"
      ]
    },
    {
      "cell_type": "markdown",
      "metadata": {
        "id": "7pL9MCTx6c0x",
        "colab_type": "text"
      },
      "source": [
        "### Problem 21: Text Based Analysis (20 points)\n",
        "\n",
        "<span  style=\"color:purple; font-size:16px\">The `review_data` table contains a column `text` containing the full text of the review. Use these data to answer one of the questions below.</span>\n",
        "\n",
        "Chose **ONE** of the questions below and use the `review_data` to answer.\n",
        "\n",
        "1. Can you classify a review as having a *positive* or *negative* sentiment? If so, select five particular businesses (by `business_id`) and compare the business's average `stars` rating from the `business_data` to the proportion of reviews you have identified as having `positive` or `negative` sentiment for those particular businesses. Draw a suitable plot.\n",
        "\n",
        "1. Do reviews with exclamation points seem to be either very highly rated or very low rated? Determine the `stars` distribution as a function of the number of exclamation points used in the review. Draw a suitable plot.\n"
      ]
    },
    {
      "cell_type": "code",
      "metadata": {
        "id": "wK4XudW56c0y",
        "colab_type": "code",
        "colab": {}
      },
      "source": [
        "# Your code here\n"
      ],
      "execution_count": 0,
      "outputs": []
    },
    {
      "cell_type": "markdown",
      "metadata": {
        "id": "2XKFW3La6c00",
        "colab_type": "text"
      },
      "source": [
        "<span  style=\"color:purple; font-size:16px\">Provide a brief explanation of your conclusions.</span>"
      ]
    },
    {
      "cell_type": "markdown",
      "metadata": {
        "id": "7WVP8k2l6c01",
        "colab_type": "text"
      },
      "source": [
        "#### Written Answer:\n",
        "\n",
        "*{Type your answer here}*\n",
        "\n"
      ]
    },
    {
      "cell_type": "markdown",
      "metadata": {
        "id": "99f2TATa6c02",
        "colab_type": "text"
      },
      "source": [
        "### Problem 22: Analysis of Users (20 points)\n",
        "\n",
        "<span  style=\"color:purple; font-size:16px\">Create a function that accepts at least a `user_id` as input. This function use the `yelp_academic_dataset_user.csv` data as well as the `yelp_academic_dataset_review.csv` or `yelp_academic_dataset_business.csv` tables as necessary.</span>\n",
        "\n",
        "<span  style=\"color:purple; font-size:16px\">The function should automatically process the data relevant to the `user_id` passed and create at least one plot annotated with relevant, interesting information about the user that best answers the following questions:</span>\n",
        "\n",
        "**What types of businesses has the user reviewed? Summarize the users review ratings by business category.**\n",
        "\n",
        "Tip: It is OK if the results of your function are not very interesting for users with only a small number of reviews but your function should produce something reasonable for any `user_id` that may be passed."
      ]
    },
    {
      "cell_type": "code",
      "metadata": {
        "id": "Lf6AA7iE6c02",
        "colab_type": "code",
        "colab": {}
      },
      "source": [
        "# Your code here\n"
      ],
      "execution_count": 0,
      "outputs": []
    },
    {
      "cell_type": "code",
      "metadata": {
        "id": "wxK2RUrV6c04",
        "colab_type": "code",
        "colab": {}
      },
      "source": [
        ""
      ],
      "execution_count": 0,
      "outputs": []
    }
  ]
}